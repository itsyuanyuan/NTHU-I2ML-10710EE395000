{
 "cells": [
  {
   "cell_type": "markdown",
   "metadata": {},
   "source": [
    "<h1><center>HW2</center></h1>"
   ]
  },
  {
   "cell_type": "markdown",
   "metadata": {},
   "source": [
    "104061172 張肇元"
   ]
  },
  {
   "cell_type": "markdown",
   "metadata": {},
   "source": [
    "<h1>Implement</h1>"
   ]
  },
  {
   "cell_type": "markdown",
   "metadata": {},
   "source": [
    "* 利用上課所學去實作一個機器學習的分類 model\n",
    "* 改用不同的 dataset 這次是用車子的\n",
    "* 運用 ski-learn 和最近新教的 training 方法去做二元分類\n",
    "* 我把code 拆成一部分一部分去解釋我在寫這部分思考的事情"
   ]
  },
  {
   "cell_type": "markdown",
   "metadata": {},
   "source": [
    "<h1>1.1 Code and Result</h1>"
   ]
  },
  {
   "cell_type": "code",
   "execution_count": 1,
   "metadata": {},
   "outputs": [],
   "source": [
    "import pandas as pd\n",
    "import numpy as np\n",
    "from sklearn.metrics import accuracy_score\n",
    "buying = {'vhigh': 4 , 'high': 3,'med' :2,'low' :1}\n",
    "maintmap = {'vhigh': 4, 'high': 3,'med' :2,'low' :1}\n",
    "doorsmap = {'2' : 2,'3': 3 ,'4': 4, '5more' : 5}\n",
    "person = {'2' : 2,'4': 4, 'more' : 6}\n",
    "lug_boot = {'small' :0,'med' : 1,'big' : 2}\n",
    "safety = {'low' : 1,'med' : 2,'high' : 3}\n",
    "classmap = {'unacc' : 0 , 'acc' :0 , 'good' :1 , 'vgood' :1}"
   ]
  },
  {
   "cell_type": "markdown",
   "metadata": {},
   "source": [
    "這部分的 Code 主要是 import 之後會用到關於儲存資料的 library\n",
    "還有對 data 進行 pre-processing 需要的 mapping value"
   ]
  },
  {
   "cell_type": "code",
   "execution_count": 2,
   "metadata": {},
   "outputs": [],
   "source": [
    "name = ['buying','maint','doors','persons','lug_boot','safety','class_values']\n",
    "df_car = pd.read_csv('http://archive.ics.uci.edu/ml/machine-learning-databases/car/car.data',header = None, names = name)"
   ]
  },
  {
   "cell_type": "markdown",
   "metadata": {},
   "source": [
    "這部分是把標題和讀 dataset"
   ]
  },
  {
   "cell_type": "code",
   "execution_count": 3,
   "metadata": {},
   "outputs": [],
   "source": [
    "df_car['buying'] = df_car['buying'].map(buying)\n",
    "df_car['maint'] = df_car['maint'].map(maintmap)\n",
    "df_car['doors'] = df_car['doors'].map(doorsmap)\n",
    "df_car['persons'] = df_car['persons'].map(person)\n",
    "df_car['lug_boot'] = df_car['lug_boot'].map(lug_boot)\n",
    "df_car['safety'] = df_car['safety'].map(safety)\n",
    "df_car['class_values'] = df_car['class_values'].map(classmap)\n",
    "data = df_car.iloc"
   ]
  },
  {
   "cell_type": "markdown",
   "metadata": {},
   "source": [
    "對於 data 的 pre-processing 的第一步:\n",
    "我們需要 data 是數字我們的 model 才能做分類，所以利用 map 這個函式去取代掉原本是英文的資料 "
   ]
  },
  {
   "cell_type": "code",
   "execution_count": 4,
   "metadata": {},
   "outputs": [],
   "source": [
    "X = data[:,0:6]\n",
    "y = data[:,[6]]"
   ]
  },
  {
   "cell_type": "markdown",
   "metadata": {},
   "source": [
    "pre-processing 第二步:\n",
    "把 label 和 data 分開"
   ]
  },
  {
   "cell_type": "code",
   "execution_count": 5,
   "metadata": {},
   "outputs": [],
   "source": [
    "from sklearn.model_selection import train_test_split\n",
    "from sklearn.preprocessing import StandardScaler\n",
    "X_train, X_test, y_train, y_test = train_test_split(X, y, test_size=0.2, random_state=1,stratify = y)\n",
    "X_train, X_val, y_train, y_val = train_test_split(X_train, y_train, test_size=0.25, random_state=1,stratify = y_train)\n",
    "sc = StandardScaler()\n",
    "sc.fit(X_train)\n",
    "X_train_std = sc.transform(X_train)\n",
    "X_val_std = sc.transform(X_val)\n",
    "T_test_std = sc.transform(X_test)\n",
    "ei = sc.fit_transform(X_train)"
   ]
  },
  {
   "cell_type": "markdown",
   "metadata": {},
   "source": [
    "這邊再導入兩個 library 做最後的 Data preprocessing \n",
    "我把 data 切成 6:2:2\n",
    "再把每個 data 拿去 normalize"
   ]
  },
  {
   "cell_type": "code",
   "execution_count": 18,
   "metadata": {},
   "outputs": [
    {
     "name": "stdout",
     "output_type": "stream",
     "text": [
      "[0.94750334 1.04067575 1.03313544 1.00736929 0.99241038 0.98470291]\n"
     ]
    },
    {
     "data": {
      "image/png": "[encoded data removed]",
      "text/plain": [
       "<Figure size 432x288 with 1 Axes>"
      ]
     },
     "metadata": {},
     "output_type": "display_data"
    }
   ],
   "source": [
    "cov_mat = np.cov(ei.T)\n",
    "eigen_vals , eigen_vecs = np.linalg.eig(cov_mat)\n",
    "print(eigen_vals)\n",
    "    \n",
    "tot = sum(eigen_vals)\n",
    "var_exp = [(i/tot)for i in sorted(eigen_vals, reverse = True)]\n",
    "cum_var_exp = np.cumsum(var_exp)\n",
    "\n",
    "import matplotlib.pyplot as plt\n",
    "\n",
    "plt.bar(range(1,7) , var_exp , alpha = 0.5 , align = 'center', label = 'individual explained variance')\n",
    "plt.step(range(1,7),cum_var_exp, where = 'mid',label = 'cumlative explained variance')\n",
    "plt.xlabel('principal component index')\n",
    "plt.ylabel('explained variance ratio')\n",
    "plt.legend(loc = 'best')\n",
    "plt.tight_layout()\n",
    "plt.show()"
   ]
  },
  {
   "cell_type": "markdown",
   "metadata": {},
   "source": [
    "拿到資料後，我的第一個想法是既然他有6種參數會影響 label ，那是不是有一些參數是可以棄用的，讓我可以去降為，結果發現每個參數都還蠻重要的。"
   ]
  },
  {
   "cell_type": "code",
   "execution_count": 7,
   "metadata": {},
   "outputs": [
    {
     "name": "stdout",
     "output_type": "stream",
     "text": [
      "ppn_training difference : 37\n",
      "ppn_training accuracy score : 0.96\n",
      "ppn_validation difference : 11\n",
      "ppn_validation accuracy score: 0.97\n"
     ]
    },
    {
     "name": "stderr",
     "output_type": "stream",
     "text": [
      "D:\\anaconda\\lib\\site-packages\\sklearn\\utils\\validation.py:578: DataConversionWarning: A column-vector y was passed when a 1d array was expected. Please change the shape of y to (n_samples, ), for example using ravel().\n",
      "  y = column_or_1d(y, warn=True)\n"
     ]
    }
   ],
   "source": [
    "from sklearn.linear_model import Perceptron\n",
    "ppn = Perceptron(max_iter = 11,eta0 = 0.1,random_state = 0)\n",
    "ppn.fit(X_train_std,y_train)\n",
    "train_pred = ppn.predict(X_train_std)\n",
    "j = train_pred.size\n",
    "train_pred.resize(j,1)\n",
    "y_pred = ppn.predict(X_val_std)\n",
    "k = y_pred.size\n",
    "y_pred.resize(k,1)\n",
    "print('ppn_training difference : %d' %(y_train != train_pred).sum())\n",
    "print('ppn_training accuracy score : %.2f' % accuracy_score(y_train,train_pred))\n",
    "print('ppn_validation difference : %d' % (y_val != y_pred).sum())\n",
    "print('ppn_validation accuracy score: %.2f' % accuracy_score(y_val, y_pred))"
   ]
  },
  {
   "cell_type": "markdown",
   "metadata": {},
   "source": [
    "這邊主要去調的參數是 max_iter，我是根據 Validation data 的 accuracy score 去調的，在 max_iter = 11 時，有最好的 performance 。"
   ]
  },
  {
   "cell_type": "code",
   "execution_count": 8,
   "metadata": {},
   "outputs": [
    {
     "name": "stdout",
     "output_type": "stream",
     "text": [
      "0.001\n",
      "lr_training difference : 35\n",
      "lr_training accuracy score : 0.97\n",
      "lr_validation difference : 10\n",
      "lr_validation accuracy score: 0.97\n",
      "0.01\n",
      "lr_training difference : 35\n",
      "lr_training accuracy score : 0.97\n",
      "lr_validation difference : 10\n",
      "lr_validation accuracy score: 0.97\n",
      "0.1\n",
      "lr_training difference : 35\n",
      "lr_training accuracy score : 0.97\n",
      "lr_validation difference : 10\n",
      "lr_validation accuracy score: 0.97\n",
      "1\n",
      "lr_training difference : 35\n",
      "lr_training accuracy score : 0.97\n",
      "lr_validation difference : 10\n",
      "lr_validation accuracy score: 0.97\n",
      "10\n",
      "lr_training difference : 35\n",
      "lr_training accuracy score : 0.97\n",
      "lr_validation difference : 10\n",
      "lr_validation accuracy score: 0.97\n",
      "100\n",
      "lr_training difference : 35\n",
      "lr_training accuracy score : 0.97\n",
      "lr_validation difference : 10\n",
      "lr_validation accuracy score: 0.97\n",
      "1000\n",
      "lr_training difference : 35\n",
      "lr_training accuracy score : 0.97\n",
      "lr_validation difference : 10\n",
      "lr_validation accuracy score: 0.97\n"
     ]
    },
    {
     "name": "stderr",
     "output_type": "stream",
     "text": [
      "D:\\anaconda\\lib\\site-packages\\sklearn\\utils\\validation.py:578: DataConversionWarning: A column-vector y was passed when a 1d array was expected. Please change the shape of y to (n_samples, ), for example using ravel().\n",
      "  y = column_or_1d(y, warn=True)\n"
     ]
    }
   ],
   "source": [
    "from sklearn.linear_model import LogisticRegression\n",
    "parameter_range = [0.001,0.01,0.1,1,10,100,1000]\n",
    "for i in parameter_range:\n",
    "    print(i)\n",
    "    lr = LogisticRegression(C=10,random_state= 1)\n",
    "    lr.fit(X_train_std,y_train)\n",
    "    train_pred = lr.predict(X_train_std)\n",
    "    j = train_pred.size\n",
    "    train_pred.resize(j,1)\n",
    "    y_pred = lr.predict(X_val_std)\n",
    "    k = y_pred.size\n",
    "    y_pred.resize(k,1)\n",
    "    print('lr_training difference : %d' %(y_train != train_pred).sum())\n",
    "    print('lr_training accuracy score : %.2f' % accuracy_score(y_train,train_pred))\n",
    "    print('lr_validation difference : %d' % (y_val != y_pred).sum())\n",
    "    print('lr_validation accuracy score: %.2f' % accuracy_score(y_val, y_pred))"
   ]
  },
  {
   "cell_type": "markdown",
   "metadata": {},
   "source": [
    "至於在 logistic regression 中，我是參考老師的講義去設定我的參數，可以看出去調 C 其實並不會太大的去影響 model 的 prediction 。"
   ]
  },
  {
   "cell_type": "code",
   "execution_count": 9,
   "metadata": {},
   "outputs": [
    {
     "name": "stdout",
     "output_type": "stream",
     "text": [
      "training difference : 1\n",
      "training accuracy score : 1.00\n",
      "validation difference : 0\n",
      "validation accuracy score: 1.00\n"
     ]
    },
    {
     "name": "stderr",
     "output_type": "stream",
     "text": [
      "D:\\anaconda\\lib\\site-packages\\sklearn\\utils\\validation.py:578: DataConversionWarning: A column-vector y was passed when a 1d array was expected. Please change the shape of y to (n_samples, ), for example using ravel().\n",
      "  y = column_or_1d(y, warn=True)\n"
     ]
    }
   ],
   "source": [
    "from sklearn.svm import SVC\n",
    "svm = SVC(kernel='rbf',random_state=1,gamma= 'auto',C=10)\n",
    "svm.fit(X_train_std,y_train)\n",
    "train_pred = svm.predict(X_train_std)\n",
    "y_pred = svm.predict(X_val_std)\n",
    "j = train_pred.size\n",
    "k = y_pred.size\n",
    "train_pred.resize(j,1)\n",
    "y_pred.resize(k,1)\n",
    "print('training difference : %d' %(y_train != train_pred).sum())\n",
    "print('training accuracy score : %.2f' % accuracy_score(y_train,train_pred))\n",
    "print('validation difference : %d' % (y_val != y_pred).sum())\n",
    "print('validation accuracy score: %.2f' % accuracy_score(y_val, y_pred))"
   ]
  },
  {
   "cell_type": "markdown",
   "metadata": {},
   "source": [
    "這邊我試過 Perceptron LogisticRegression 還有 rbf\n",
    "到 rbf 就決定繼續做下一步，因為他在 validation 和 training 都有很高的performance"
   ]
  },
  {
   "cell_type": "code",
   "execution_count": 10,
   "metadata": {},
   "outputs": [
    {
     "name": "stdout",
     "output_type": "stream",
     "text": [
      "testing difference : 2\n",
      "testing accuracy score: 0.99\n"
     ]
    }
   ],
   "source": [
    "t_pred = svm.predict(T_test_std)\n",
    "l = t_pred.size\n",
    "t_pred.resize(l,1)\n",
    "print('testing difference : %d' % (y_test != t_pred).sum())\n",
    "print('testing accuracy score: %.2f' % accuracy_score(y_test, t_pred))"
   ]
  },
  {
   "cell_type": "markdown",
   "metadata": {},
   "source": [
    "最後是把 testing data 丟進去\n",
    "發現這個 model 還不錯"
   ]
  },
  {
   "cell_type": "markdown",
   "metadata": {},
   "source": [
    "<h1>Discussion</h1>"
   ]
  },
  {
   "cell_type": "markdown",
   "metadata": {},
   "source": [
    "因為有學過程二，所以物件導向語言對我來說沒有到很困難，而且這次作業也不複雜，時間都花在查 document 上了，那在這次作業中，第一次有機會去實作真的 ML 的 model 覺得很厲害，很像黑魔法，雖然知道這是用數學模型去 fit 出來的結果，但是真的做出來很有成就感，另外在 call function 的時候覺得 sklearn 好像就是連尿布都幫我們包好了，我們要做的就是把 data 丟進去，經過一個黑盒子，就有 output 了\n",
    "這是我第一次去 train 一個 model 雖然暑假的時候因為專題的方向，有先看一些關於 CNN 的課程，但是實際去做還是第一次。"
   ]
  },
  {
   "cell_type": "markdown",
   "metadata": {},
   "source": [
    "<h1>1.2 Code and Result</h1>"
   ]
  },
  {
   "cell_type": "markdown",
   "metadata": {},
   "source": [
    "* 更動 label\n",
    "* code 部分幾乎和第一題實作的方法都非常類似\n"
   ]
  },
  {
   "cell_type": "code",
   "execution_count": 11,
   "metadata": {},
   "outputs": [],
   "source": [
    "import pandas as pd\n",
    "import numpy as np\n",
    "from sklearn.metrics import accuracy_score\n",
    "buying = {'vhigh': 4 , 'high': 3,'med' :2,'low' :1}\n",
    "maintmap = {'vhigh': 4, 'high': 3,'med' :2,'low' :1}\n",
    "doorsmap = {'2' : 2,'3': 3 ,'4': 4, '5more' : 5}\n",
    "person = {'2' : 2,'4': 4, 'more' : 6}\n",
    "lug_boot = {'small' :0,'med' : 1,'big' : 2}\n",
    "safety = {'low' : 1,'med' : 2,'high' : 3}\n",
    "classmap = {'unacc' : 0 , 'acc' :1 , 'good' :2 , 'vgood' :3}"
   ]
  },
  {
   "cell_type": "markdown",
   "metadata": {},
   "source": [
    "修改 label"
   ]
  },
  {
   "cell_type": "code",
   "execution_count": 12,
   "metadata": {},
   "outputs": [],
   "source": [
    "name = ['buying','maint','doors','persons','lug_boot','safety','class_values']\n",
    "df_car = pd.read_csv('http://archive.ics.uci.edu/ml/machine-learning-databases/car/car.data',header = None, names = name)\n",
    "df_car['buying'] = df_car['buying'].map(buying)\n",
    "df_car['maint'] = df_car['maint'].map(maintmap)\n",
    "df_car['doors'] = df_car['doors'].map(doorsmap)\n",
    "df_car['persons'] = df_car['persons'].map(person)\n",
    "df_car['lug_boot'] = df_car['lug_boot'].map(lug_boot)\n",
    "df_car['safety'] = df_car['safety'].map(safety)\n",
    "df_car['class_values'] = df_car['class_values'].map(classmap)\n",
    "data = df_car.iloc\n",
    "X = data[:,0:6]\n",
    "y = data[:,[6]]\n",
    "from sklearn.model_selection import train_test_split\n",
    "from sklearn.preprocessing import StandardScaler\n",
    "X_train, X_test, y_train, y_test = train_test_split(X, y, test_size=0.2, random_state=1,stratify = y)\n",
    "X_train, X_val, y_train, y_val = train_test_split(X_train, y_train, test_size=0.25, random_state=1,stratify = y_train)\n",
    "sc = StandardScaler()\n",
    "sc.fit(X_train)\n",
    "X_train_std = sc.transform(X_train)\n",
    "X_val_std = sc.transform(X_val)\n",
    "T_test_std = sc.transform(X_test)"
   ]
  },
  {
   "cell_type": "code",
   "execution_count": 13,
   "metadata": {},
   "outputs": [
    {
     "name": "stdout",
     "output_type": "stream",
     "text": [
      "ppn_training difference : 224\n",
      "ppn_training accuracy score : 0.78\n",
      "ppn_validation difference : 72\n",
      "ppn_validation accuracy score: 0.79\n"
     ]
    },
    {
     "name": "stderr",
     "output_type": "stream",
     "text": [
      "D:\\anaconda\\lib\\site-packages\\sklearn\\utils\\validation.py:578: DataConversionWarning: A column-vector y was passed when a 1d array was expected. Please change the shape of y to (n_samples, ), for example using ravel().\n",
      "  y = column_or_1d(y, warn=True)\n"
     ]
    }
   ],
   "source": [
    "from sklearn.linear_model import Perceptron\n",
    "ppn = Perceptron(max_iter = 23,eta0 = 0.1,random_state = 0)\n",
    "ppn.fit(X_train_std,y_train)\n",
    "train_pred = ppn.predict(X_train_std)\n",
    "j = train_pred.size\n",
    "train_pred.resize(j,1)\n",
    "y_pred = ppn.predict(X_val_std)\n",
    "k = y_pred.size\n",
    "y_pred.resize(k,1)\n",
    "print('ppn_training difference : %d' %(y_train != train_pred).sum())\n",
    "print('ppn_training accuracy score : %.2f' % accuracy_score(y_train,train_pred))\n",
    "print('ppn_validation difference : %d' % (y_val != y_pred).sum())\n",
    "print('ppn_validation accuracy score: %.2f' % accuracy_score(y_val, y_pred))"
   ]
  },
  {
   "cell_type": "code",
   "execution_count": 14,
   "metadata": {},
   "outputs": [
    {
     "name": "stdout",
     "output_type": "stream",
     "text": [
      "C = 0.001000\n",
      "lr_training difference : 190\n",
      "lr_training accuracy score : 0.82\n",
      "lr_validation difference : 63\n",
      "lr_validation accuracy score: 0.82\n",
      "C = 0.010000\n",
      "lr_training difference : 190\n",
      "lr_training accuracy score : 0.82\n",
      "lr_validation difference : 63\n",
      "lr_validation accuracy score: 0.82\n",
      "C = 0.100000\n",
      "lr_training difference : 190\n",
      "lr_training accuracy score : 0.82\n",
      "lr_validation difference : 63\n",
      "lr_validation accuracy score: 0.82\n",
      "C = 1.000000\n",
      "lr_training difference : 190\n",
      "lr_training accuracy score : 0.82\n",
      "lr_validation difference : 63\n",
      "lr_validation accuracy score: 0.82\n",
      "C = 10.000000\n",
      "lr_training difference : 190\n",
      "lr_training accuracy score : 0.82\n",
      "lr_validation difference : 63\n",
      "lr_validation accuracy score: 0.82\n",
      "C = 100.000000\n",
      "lr_training difference : 190\n",
      "lr_training accuracy score : 0.82\n",
      "lr_validation difference : 63\n",
      "lr_validation accuracy score: 0.82\n",
      "C = 1000.000000\n",
      "lr_training difference : 190\n",
      "lr_training accuracy score : 0.82\n",
      "lr_validation difference : 63\n",
      "lr_validation accuracy score: 0.82\n"
     ]
    },
    {
     "name": "stderr",
     "output_type": "stream",
     "text": [
      "D:\\anaconda\\lib\\site-packages\\sklearn\\utils\\validation.py:578: DataConversionWarning: A column-vector y was passed when a 1d array was expected. Please change the shape of y to (n_samples, ), for example using ravel().\n",
      "  y = column_or_1d(y, warn=True)\n"
     ]
    }
   ],
   "source": [
    "from sklearn.linear_model import LogisticRegression\n",
    "parameter_range = [0.001,0.01,0.1,1,10,100,1000]\n",
    "for i in parameter_range:\n",
    "    print('C = %f' %i)\n",
    "    lr = LogisticRegression(C=10,random_state= 1)\n",
    "    lr.fit(X_train_std,y_train)\n",
    "    train_pred = lr.predict(X_train_std)\n",
    "    j = train_pred.size\n",
    "    train_pred.resize(j,1)\n",
    "    y_pred = lr.predict(X_val_std)\n",
    "    k = y_pred.size\n",
    "    y_pred.resize(k,1)\n",
    "    print('lr_training difference : %d' %(y_train != train_pred).sum())\n",
    "    print('lr_training accuracy score : %.2f' % accuracy_score(y_train,train_pred))\n",
    "    print('lr_validation difference : %d' % (y_val != y_pred).sum())\n",
    "    print('lr_validation accuracy score: %.2f' % accuracy_score(y_val, y_pred))"
   ]
  },
  {
   "cell_type": "markdown",
   "metadata": {},
   "source": [
    "看到 perceptron 和 logistic regression 的 performance 都比較普通，我開始思考是不是當要分的 calss 來到 4 個之後，用 linear 的 model 去train 是不是分不開 data，所以最後我想要用非線性的 rbf 去試試看。"
   ]
  },
  {
   "cell_type": "code",
   "execution_count": 15,
   "metadata": {},
   "outputs": [
    {
     "name": "stdout",
     "output_type": "stream",
     "text": [
      "training difference : 3\n",
      "training accuracy score : 1.00\n",
      "validation difference : 4\n",
      "validation accuracy score: 0.99\n"
     ]
    },
    {
     "name": "stderr",
     "output_type": "stream",
     "text": [
      "D:\\anaconda\\lib\\site-packages\\sklearn\\utils\\validation.py:578: DataConversionWarning: A column-vector y was passed when a 1d array was expected. Please change the shape of y to (n_samples, ), for example using ravel().\n",
      "  y = column_or_1d(y, warn=True)\n"
     ]
    }
   ],
   "source": [
    "from sklearn.svm import SVC\n",
    "svm = SVC(kernel='rbf',random_state=1,gamma= 'auto',C=10)\n",
    "svm.fit(X_train_std,y_train)\n",
    "train_pred = svm.predict(X_train_std)\n",
    "y_pred = svm.predict(X_val_std)\n",
    "j = train_pred.size\n",
    "k = y_pred.size\n",
    "train_pred.resize(j,1)\n",
    "y_pred.resize(k,1)\n",
    "print('training difference : %d' %(y_train != train_pred).sum())\n",
    "print('training accuracy score : %.2f' % accuracy_score(y_train,train_pred))\n",
    "print('validation difference : %d' % (y_val != y_pred).sum())\n",
    "print('validation accuracy score: %.2f' % accuracy_score(y_val, y_pred))"
   ]
  },
  {
   "cell_type": "markdown",
   "metadata": {},
   "source": [
    "結果發現無論是 training 還是 validation 的 performance 還不錯，所以我打算用 SVC 中 kernel = rbf 當我的 model。\n",
    "gamma 我這次就直接設計是 auto 了，它代表的是  1 / n_features和講義的 0.1 比起來我覺得算合理，所以我就沒有去動它了。同時 testing 的比 validation 的 performance 差一點是正常現象，因為有根據 validation 去調過參數，但是 testing 沒有，因為根據 testing 調過參數的話其實就是作弊了， testing 必須要是 unseen 才行。"
   ]
  },
  {
   "cell_type": "code",
   "execution_count": 16,
   "metadata": {},
   "outputs": [
    {
     "name": "stdout",
     "output_type": "stream",
     "text": [
      "testing difference : 7\n",
      "testing accuracy score: 0.98\n"
     ]
    }
   ],
   "source": [
    "t_pred = svm.predict(T_test_std)\n",
    "l = t_pred.size\n",
    "t_pred.resize(l,1)\n",
    "print('testing difference : %d' % (y_test != t_pred).sum())\n",
    "print('testing accuracy score: %.2f' % accuracy_score(y_test, t_pred))"
   ]
  },
  {
   "cell_type": "markdown",
   "metadata": {},
   "source": [
    "<h1>Discussion</h1>"
   ]
  },
  {
   "cell_type": "markdown",
   "metadata": {},
   "source": [
    "第二次在 Code 部分幾乎相同，比較需要修改的地方只有 label ，同時因為我的 class_label 多了 2 個，所以分類出來的結果讓我感到: 啊! 黑魔法阿!因為在coding 上幾乎都是複製貼上第一次的 code 所以比較需要注意的地方只有 model ，因為在第二題中，用 linear model 去做 classifier 的 performance 想比第一題實在差太多了。而且可以看到在 testing 的 performance 雖然比 validation 稍差，但是仍然在一個很不錯的值，這是非常合理的現象。第二題主要看到了選擇 model 的重要性，因為不同的 model 算出來的 accuracy score 真的差太多了!還有每次要測的時候都要對 dataset 進行 normalization ， 之前傻傻不懂事，直接丟進去， performence 就非常的糟糕。"
   ]
  }
 ],
 "metadata": {
  "kernelspec": {
   "display_name": "Python 3",
   "language": "python",
   "name": "python3"
  },
  "language_info": {
   "codemirror_mode": {
    "name": "ipython",
    "version": 3
   },
   "file_extension": ".py",
   "mimetype": "text/x-python",
   "name": "python",
   "nbconvert_exporter": "python",
   "pygments_lexer": "ipython3",
   "version": "3.6.5"
  }
 },
 "nbformat": 4,
 "nbformat_minor": 2
}
